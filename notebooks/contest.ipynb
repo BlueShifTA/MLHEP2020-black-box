{
 "cells": [
  {
   "cell_type": "code",
   "execution_count": 1,
   "metadata": {},
   "outputs": [
    {
     "name": "stdout",
     "output_type": "stream",
     "text": [
      "initializing ocelot...\n"
     ]
    }
   ],
   "source": [
    "import numpy as np\n",
    "from tqdm.notebook import tqdm\n",
    "\n",
    "import matplotlib.pyplot as plt\n",
    "\n",
    "import ocelot\n",
    "from fel import SASE, random_beam, random_geometry, N_ELEMENTS\n",
    "\n",
    "hidden_rng = np.random.RandomState(1111)"
   ]
  },
  {
   "cell_type": "code",
   "execution_count": 2,
   "metadata": {},
   "outputs": [],
   "source": [
    "class Optimizer(object):\n",
    "    def __init__(self, x0):\n",
    "        \"\"\"\n",
    "        Optimizer should accept initial configuration x0\n",
    "        \"\"\"\n",
    "        pass\n",
    "\n",
    "    def reset(self, ):\n",
    "        \"\"\"\n",
    "        Auxilary method --- resets internal state of the optimizer.\n",
    "        \"\"\"\n",
    "        raise NotImplementedError()\n",
    "        \n",
    "    def ask(self,):\n",
    "        \"\"\"\n",
    "        Returns next configuration to probe.\n",
    "        \"\"\"\n",
    "        raise NotImplementedError()\n",
    "    \n",
    "    def tell(self, x, f):\n",
    "        \"\"\"\n",
    "        Callback method:\n",
    "        `x` - configuration returned by `ask()` method (possibly clipped to satisfy bounds),\n",
    "        `f` - value of the objective function in the point `x`.\n",
    "        \"\"\"\n",
    "        raise NotImplementedError()"
   ]
  },
  {
   "cell_type": "code",
   "execution_count": 3,
   "metadata": {},
   "outputs": [],
   "source": [
    "class RandomSearch(Optimizer):\n",
    "    def __init__(self, x0, seed=1122):\n",
    "        self.x0 = x0\n",
    "        self.rng = np.random.RandomState(seed=seed)\n",
    "        \n",
    "        super(RandomSearch, self).__init__(x0)\n",
    "    \n",
    "    def ask(self, ):\n",
    "        return self.rng.uniform(-1, 1, size=self.x0.shape)\n",
    "    \n",
    "    def tell(self, x, f):\n",
    "        pass\n",
    "    \n",
    "    def reset(self,):\n",
    "        pass"
   ]
  },
  {
   "cell_type": "code",
   "execution_count": 4,
   "metadata": {},
   "outputs": [],
   "source": [
    "class GreedySearch(Optimizer):\n",
    "    def __init__(self, x0, scale=1e-2, seed=1122):\n",
    "        self.x0 = x0\n",
    "        self.rng = np.random.RandomState(seed=seed)\n",
    "        \n",
    "        self.x = x0\n",
    "        self.f = None\n",
    "        \n",
    "        self.scale = scale\n",
    "        \n",
    "        super(GreedySearch, self).__init__(x0)\n",
    "    \n",
    "    def ask(self, ):\n",
    "        return self.x + self.rng.normal(size=self.x.shape, scale=self.scale)\n",
    "    \n",
    "    def tell(self, x, f):\n",
    "        if self.f is None:\n",
    "            self.f = f\n",
    "            self.x = x\n",
    "\n",
    "        elif self.f < f:\n",
    "            pass\n",
    "\n",
    "        else:\n",
    "            self.f = f\n",
    "            self.x = x\n",
    "    \n",
    "    def reset(self,):\n",
    "        self.x = self.x0\n",
    "        self.f = None"
   ]
  },
  {
   "cell_type": "code",
   "execution_count": 5,
   "metadata": {},
   "outputs": [],
   "source": [
    "sase = SASE(random_beam(hidden_rng), random_geometry(hidden_rng))\n",
    "epsilon = 1e-12\n",
    "\n",
    "objective = lambda x: np.log(1e-3) - np.log(sase.rho_int(x) + epsilon)\n",
    "\n",
    "bounds = np.stack([\n",
    "    -2 * np.ones(sase.ndim()),\n",
    "    2 * np.ones(sase.ndim())\n",
    "], axis=1)\n",
    "\n",
    "x0 = np.zeros(sase.ndim())"
   ]
  },
  {
   "cell_type": "code",
   "execution_count": 6,
   "metadata": {},
   "outputs": [
    {
     "name": "stdout",
     "output_type": "stream",
     "text": [
      "1.16 s ± 6.85 ms per loop (mean ± std. dev. of 7 runs, 1 loop each)\n"
     ]
    }
   ],
   "source": [
    "%%timeit\n",
    "objective(np.random.uniform(-1, 1, size=sase.ndim()))"
   ]
  },
  {
   "cell_type": "code",
   "execution_count": 7,
   "metadata": {},
   "outputs": [],
   "source": [
    "def eval_optimization(\n",
    "    optimizer_class, f, x0, bounds,\n",
    "    moving_cost=1, measuring_cost=1, budget=128,\n",
    "    progress=None\n",
    "):\n",
    "    if progress is None:\n",
    "        progress = lambda x: x\n",
    "    \n",
    "    optimizer = optimizer_class(x0)    \n",
    "    \n",
    "    current_x = np.zeros_like(x0)\n",
    "    \n",
    "    history_x = list()\n",
    "    history_f = list()\n",
    "    \n",
    "    max_iterations = int(np.floor(budget / measuring_cost))\n",
    "    \n",
    "    for _ in progress(range(max_iterations)):\n",
    "        x = optimizer.ask()\n",
    "        x = np.array(x, dtype=np.float64)        \n",
    "        assert x.shape == x0.shape\n",
    "        \n",
    "        x = np.clip(x, bounds[:, 0], bounds[:, 1])\n",
    "\n",
    "        distance = np.max(np.abs(current_x - x))\n",
    "        \n",
    "        cost = moving_cost * distance + measuring_cost\n",
    "        \n",
    "        if budget < cost:\n",
    "            break\n",
    "        \n",
    "        budget -= cost\n",
    "        value = f(x)\n",
    "        current_x = x\n",
    "        \n",
    "        optimizer.tell(x, value)\n",
    "        \n",
    "        history_x.append(np.copy(x))\n",
    "        history_f.append(np.copy(value))\n",
    "    \n",
    "    return np.array(history_x), np.array(history_f)"
   ]
  },
  {
   "cell_type": "code",
   "execution_count": 8,
   "metadata": {},
   "outputs": [],
   "source": [
    "from scipy import optimize\n",
    "\n",
    "solution = optimize.minimize(\n",
    "    objective,\n",
    "    x0=x0,\n",
    "    method='Powell',\n",
    "    options=dict(maxfev=128),\n",
    "    bounds=bounds\n",
    ")"
   ]
  },
  {
   "cell_type": "code",
   "execution_count": 9,
   "metadata": {},
   "outputs": [
    {
     "data": {
      "text/plain": [
       "'Maximum number of function evaluations has been exceeded.'"
      ]
     },
     "execution_count": 9,
     "metadata": {},
     "output_type": "execute_result"
    }
   ],
   "source": [
    "solution.message"
   ]
  },
  {
   "cell_type": "code",
   "execution_count": 10,
   "metadata": {},
   "outputs": [
    {
     "name": "stdout",
     "output_type": "stream",
     "text": [
      "1.0589204290664744\n",
      "[ 1.63025372 -1.20286725  0.06612919  0.84702465 -0.43247678  0.11095409\n",
      "  0.0911893   0.12931333  0.05069228  0.1193649 ]\n"
     ]
    }
   ],
   "source": [
    "print(solution.fun)\n",
    "print(solution.x)"
   ]
  },
  {
   "cell_type": "code",
   "execution_count": 11,
   "metadata": {},
   "outputs": [],
   "source": [
    "def cummin(fs):\n",
    "    result = np.zeros_like(fs)\n",
    "    \n",
    "    result[0] = fs[0]\n",
    "    \n",
    "    for i in range(1, fs.shape[0]):\n",
    "        if result[i - 1] < fs[i]:\n",
    "            result[i] = result[i - 1]\n",
    "        else:\n",
    "            result[i] = fs[i]\n",
    "    \n",
    "    return result"
   ]
  },
  {
   "cell_type": "code",
   "execution_count": 12,
   "metadata": {},
   "outputs": [
    {
     "data": {
      "application/vnd.jupyter.widget-view+json": {
       "model_id": "a607c1b787a34c24a9bd07ffa64f6d13",
       "version_major": 2,
       "version_minor": 0
      },
      "text/plain": [
       "HBox(children=(FloatProgress(value=0.0, max=128.0), HTML(value='')))"
      ]
     },
     "metadata": {},
     "output_type": "display_data"
    },
    {
     "data": {
      "text/plain": [
       "1.7332396557746659"
      ]
     },
     "execution_count": 12,
     "metadata": {},
     "output_type": "execute_result"
    }
   ],
   "source": [
    "xs, fs = eval_optimization(\n",
    "    GreedySearch,\n",
    "    objective,\n",
    "    x0=x0,\n",
    "    bounds=bounds,\n",
    "    progress=tqdm\n",
    ")\n",
    "\n",
    "np.min(fs)"
   ]
  },
  {
   "cell_type": "code",
   "execution_count": 13,
   "metadata": {},
   "outputs": [
    {
     "data": {
      "text/plain": [
       "Text(0.5, 0, 'iteration')"
      ]
     },
     "execution_count": 13,
     "metadata": {},
     "output_type": "execute_result"
    },
    {
     "data": {
      "image/png": "[encoded data removed]",
      "text/plain": [
       "<Figure size 432x288 with 1 Axes>"
      ]
     },
     "metadata": {
      "needs_background": "light"
     },
     "output_type": "display_data"
    }
   ],
   "source": [
    "plt.plot(cummin(fs))\n",
    "plt.scatter(np.arange(fs.shape[0]), fs, alpha=0.25)\n",
    "plt.xlabel('iteration')"
   ]
  },
  {
   "cell_type": "code",
   "execution_count": 14,
   "metadata": {},
   "outputs": [
    {
     "data": {
      "application/vnd.jupyter.widget-view+json": {
       "model_id": "ed0f99037f7c4ac89814e1e09371bb1a",
       "version_major": 2,
       "version_minor": 0
      },
      "text/plain": [
       "HBox(children=(FloatProgress(value=0.0, max=128.0), HTML(value='')))"
      ]
     },
     "metadata": {},
     "output_type": "display_data"
    },
    {
     "data": {
      "text/plain": [
       "1.3451432472090001"
      ]
     },
     "execution_count": 14,
     "metadata": {},
     "output_type": "execute_result"
    }
   ],
   "source": [
    "xs, fs = eval_optimization(\n",
    "    RandomSearch,\n",
    "    objective,\n",
    "    x0=x0,\n",
    "    bounds=bounds,\n",
    "    progress=tqdm\n",
    ")\n",
    "\n",
    "np.min(fs)"
   ]
  },
  {
   "cell_type": "code",
   "execution_count": 15,
   "metadata": {},
   "outputs": [
    {
     "data": {
      "text/plain": [
       "Text(0.5, 0, 'iteration')"
      ]
     },
     "execution_count": 15,
     "metadata": {},
     "output_type": "execute_result"
    },
    {
     "data": {
      "image/png": "[encoded data removed]",
      "text/plain": [
       "<Figure size 432x288 with 1 Axes>"
      ]
     },
     "metadata": {
      "needs_background": "light"
     },
     "output_type": "display_data"
    }
   ],
   "source": [
    "plt.plot(cummin(fs))\n",
    "plt.scatter(np.arange(fs.shape[0]), fs, alpha=0.25)\n",
    "plt.xlabel('iteration')"
   ]
  },
  {
   "cell_type": "code",
   "execution_count": null,
   "metadata": {},
   "outputs": [],
   "source": []
  }
 ],
 "metadata": {
  "kernelspec": {
   "display_name": "Python 3",
   "language": "python",
   "name": "python3"
  },
  "language_info": {
   "codemirror_mode": {
    "name": "ipython",
    "version": 3
   },
   "file_extension": ".py",
   "mimetype": "text/x-python",
   "name": "python",
   "nbconvert_exporter": "python",
   "pygments_lexer": "ipython3",
   "version": "3.7.6"
  }
 },
 "nbformat": 4,
 "nbformat_minor": 2
}
