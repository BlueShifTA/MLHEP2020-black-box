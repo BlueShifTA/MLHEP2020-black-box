{
 "cells": [
  {
   "cell_type": "code",
   "execution_count": 1,
   "metadata": {},
   "outputs": [
    {
     "name": "stdout",
     "output_type": "stream",
     "text": [
      "initializing ocelot...\n"
     ]
    }
   ],
   "source": [
    "import numpy as np\n",
    "from tqdm.notebook import tqdm\n",
    "\n",
    "import matplotlib.pyplot as plt\n",
    "\n",
    "import ocelot\n",
    "from fel import SASE, random_beam, random_geometry, N_ELEMENTS\n",
    "\n",
    "hidden_rng = np.random.RandomState(1111)"
   ]
  },
  {
   "cell_type": "code",
   "execution_count": 2,
   "metadata": {},
   "outputs": [],
   "source": [
    "class Optimizer(object):\n",
    "    def __init__(self, x0):\n",
    "        \"\"\"\n",
    "        Optimizer should accept initial configuration x0\n",
    "        \"\"\"\n",
    "        pass\n",
    "\n",
    "    def reset(self, ):\n",
    "        \"\"\"\n",
    "        Auxilary method --- resets internal state of the optimiser.\n",
    "        \"\"\"\n",
    "        raise NotImplementedError()\n",
    "        \n",
    "    def ask(self,):\n",
    "        \"\"\"\n",
    "        Returns next configuration to probe.\n",
    "        \"\"\"\n",
    "        raise NotImplementedError()\n",
    "    \n",
    "    def tell(self, x, f):\n",
    "        \"\"\"\n",
    "        Callback method:\n",
    "        `x` - configuration returned by `ask()` method (possibly clipped to satisfy bounds),\n",
    "        `f` - value of the objective function in the point `x`.\n",
    "        \"\"\"\n",
    "        raise NotImplementedError()"
   ]
  },
  {
   "cell_type": "code",
   "execution_count": 3,
   "metadata": {},
   "outputs": [],
   "source": [
    "class SimulatedAnnealing(Optimizer):\n",
    "    def __init__(self, x0, T0=0.2, T_final=0.0, n_steps=100, scale=0.1, seed=1122):\n",
    "        self.x0 = x0\n",
    "        self.rng = np.random.RandomState(seed=seed)\n",
    "        \n",
    "        self.x = x0\n",
    "        self.f = None\n",
    "        \n",
    "        self.T0 = T0\n",
    "        self.T = T0\n",
    "        self.T_final = T_final\n",
    "        self.n_steps = n_steps\n",
    "        self.i = 0\n",
    "        \n",
    "        self.momentum = 0*x0\n",
    "        \n",
    "        self.scale = scale\n",
    "        \n",
    "        super(SimulatedAnnealing, self).__init__(x0)\n",
    "    \n",
    "    def ask(self, ):\n",
    "        return self.x + self.rng.normal(size=self.x.shape, scale=self.scale)\n",
    "    \n",
    "    def tell(self, x, f):\n",
    "        \n",
    "        if self.i<self.n_steps and self.n_steps>0:\n",
    "            self.T = self.T0 - (self.T0 - self.T_final) * self.i /self.n_steps\n",
    "            self.i += 1\n",
    "        \n",
    "        if self.f is None:\n",
    "            self.f = f\n",
    "            self.x = x\n",
    "\n",
    "        elif self.f < f:\n",
    "            if self.f-f > np.log(self.rng.uniform(0,1)+1e-20)*self.T:\n",
    "                self.f = f\n",
    "                self.x = x     \n",
    "            else:\n",
    "                pass\n",
    "\n",
    "        else:\n",
    "            # self.momentum += (x-self.x)*(self.f-f)**2 # does not work very well...\n",
    "            self.f = f\n",
    "            self.x = x\n",
    "    \n",
    "    def reset(self,):\n",
    "        self.x = self.x0\n",
    "        self.f = None"
   ]
  },
  {
   "cell_type": "code",
   "execution_count": null,
   "metadata": {},
   "outputs": [],
   "source": []
  },
  {
   "cell_type": "code",
   "execution_count": null,
   "metadata": {},
   "outputs": [],
   "source": [
    "class RandomSearch(Optimizer):\n",
    "    def __init__(self, x0, seed=1122):\n",
    "        self.x0 = x0\n",
    "        self.rng = np.random.RandomState(seed=seed)\n",
    "        \n",
    "        super(RandomSearch, self).__init__(x0)\n",
    "    \n",
    "    def ask(self, ):\n",
    "        return self.rng.uniform(-1, 1, size=self.x0.shape)\n",
    "    \n",
    "    def tell(self, x, f):\n",
    "        pass\n",
    "    \n",
    "    def reset(self,):\n",
    "        pass"
   ]
  },
  {
   "cell_type": "code",
   "execution_count": null,
   "metadata": {},
   "outputs": [],
   "source": [
    "class GreedySearch(Optimizer):\n",
    "    def __init__(self, x0, scale=1e-2, seed=1122):\n",
    "        self.x0 = x0\n",
    "        self.rng = np.random.RandomState(seed=seed)\n",
    "        \n",
    "        self.x = x0\n",
    "        self.f = None\n",
    "        \n",
    "        self.scale = scale\n",
    "        \n",
    "        super(GreedySearch, self).__init__(x0)\n",
    "    \n",
    "    def ask(self, ):\n",
    "        return self.x + self.rng.normal(size=self.x.shape, scale=self.scale)\n",
    "    \n",
    "    def tell(self, x, f):\n",
    "        if self.f is None:\n",
    "            self.f = f\n",
    "            self.x = x\n",
    "\n",
    "        elif self.f < f:\n",
    "            pass\n",
    "\n",
    "        else:\n",
    "            self.f = f\n",
    "            self.x = x\n",
    "    \n",
    "    def reset(self,):\n",
    "        self.x = self.x0\n",
    "        self.f = None"
   ]
  },
  {
   "cell_type": "code",
   "execution_count": 4,
   "metadata": {},
   "outputs": [],
   "source": [
    "sase = SASE(random_beam(hidden_rng), random_geometry(hidden_rng))\n",
    "epsilon = 1e-12\n",
    "\n",
    "objective = lambda x: np.log(1e-3) - np.log(sase.rho_int(x) + epsilon)\n",
    "\n",
    "bounds = np.stack([\n",
    "    -2 * np.ones(sase.ndim()),\n",
    "    2 * np.ones(sase.ndim())\n",
    "], axis=1)\n",
    "\n",
    "x0 = np.zeros(sase.ndim())"
   ]
  },
  {
   "cell_type": "code",
   "execution_count": null,
   "metadata": {},
   "outputs": [],
   "source": [
    "%%timeit\n",
    "objective(np.random.uniform(-1, 1, size=sase.ndim()))"
   ]
  },
  {
   "cell_type": "code",
   "execution_count": 5,
   "metadata": {},
   "outputs": [],
   "source": [
    "def eval_optimization(\n",
    "    optimiser_class, f, x0, bounds,\n",
    "    moving_cost=1, measuring_cost=1, budget=128,\n",
    "    progress=None, *args, **kwargs\n",
    "):\n",
    "    if progress is None:\n",
    "        progress = lambda x: x\n",
    "    \n",
    "    optimiser = optimiser_class(x0, *args, **kwargs)    \n",
    "    \n",
    "    current_x = np.zeros_like(x0)\n",
    "    \n",
    "    history_x = list()\n",
    "    history_f = list()\n",
    "    \n",
    "    max_iterations = int(np.floor(budget / measuring_cost))\n",
    "    \n",
    "    for _ in progress(range(max_iterations)):\n",
    "        x = optimiser.ask()\n",
    "        x = np.array(x, dtype=np.float64)        \n",
    "        assert x.shape == x0.shape\n",
    "        \n",
    "        x = np.clip(x, bounds[:, 0], bounds[:, 1])\n",
    "\n",
    "        distance = np.max(np.abs(current_x - x))\n",
    "        \n",
    "        cost = moving_cost * distance + measuring_cost\n",
    "        \n",
    "        if budget < cost:\n",
    "            break\n",
    "        \n",
    "        budget -= cost\n",
    "        value = f(x)\n",
    "        current_x = x\n",
    "        \n",
    "        optimiser.tell(x, value)\n",
    "        \n",
    "        history_x.append(np.copy(x))\n",
    "        history_f.append(np.copy(value))\n",
    "    \n",
    "    return np.array(history_x), np.array(history_f)"
   ]
  },
  {
   "cell_type": "code",
   "execution_count": null,
   "metadata": {},
   "outputs": [],
   "source": [
    "from scipy import optimize\n",
    "\n",
    "solution = optimize.minimize(\n",
    "    objective,\n",
    "    x0=x0,\n",
    "    method='Powell',\n",
    "    options=dict(maxfev=128),\n",
    "    bounds=bounds\n",
    ")"
   ]
  },
  {
   "cell_type": "code",
   "execution_count": null,
   "metadata": {},
   "outputs": [],
   "source": [
    "solution.message"
   ]
  },
  {
   "cell_type": "code",
   "execution_count": null,
   "metadata": {},
   "outputs": [],
   "source": [
    "print(solution.fun)\n",
    "print(solution.x)"
   ]
  },
  {
   "cell_type": "code",
   "execution_count": null,
   "metadata": {},
   "outputs": [],
   "source": [
    "def cummin(fs):\n",
    "    result = np.zeros_like(fs)\n",
    "    \n",
    "    result[0] = fs[0]\n",
    "    \n",
    "    for i in range(1, fs.shape[0]):\n",
    "        if result[i - 1] < fs[i]:\n",
    "            result[i] = result[i - 1]\n",
    "        else:\n",
    "            result[i] = fs[i]\n",
    "    \n",
    "    return result"
   ]
  },
  {
   "cell_type": "code",
   "execution_count": null,
   "metadata": {},
   "outputs": [],
   "source": [
    "xs, fs = eval_optimization(\n",
    "    GreedySearch,\n",
    "    objective,\n",
    "    x0=x0,\n",
    "    bounds=bounds,\n",
    "    progress=tqdm\n",
    ")\n",
    "\n",
    "np.min(fs)"
   ]
  },
  {
   "cell_type": "code",
   "execution_count": null,
   "metadata": {},
   "outputs": [],
   "source": [
    "plt.plot(cummin(fs))\n",
    "plt.scatter(np.arange(fs.shape[0]), fs, alpha=0.25)\n",
    "plt.xlabel('iteration')"
   ]
  },
  {
   "cell_type": "code",
   "execution_count": null,
   "metadata": {},
   "outputs": [],
   "source": [
    "xs, fs = eval_optimization(\n",
    "    RandomSearch,\n",
    "    objective,\n",
    "    x0=x0,\n",
    "    bounds=bounds,\n",
    "    progress=tqdm\n",
    ")\n",
    "\n",
    "np.min(fs)"
   ]
  },
  {
   "cell_type": "code",
   "execution_count": null,
   "metadata": {},
   "outputs": [],
   "source": [
    "plt.plot(cummin(fs))\n",
    "plt.scatter(np.arange(fs.shape[0]), fs, alpha=0.25)\n",
    "plt.xlabel('iteration')"
   ]
  },
  {
   "cell_type": "code",
   "execution_count": null,
   "metadata": {},
   "outputs": [],
   "source": []
  },
  {
   "cell_type": "code",
   "execution_count": 6,
   "metadata": {},
   "outputs": [
    {
     "data": {
      "application/vnd.jupyter.widget-view+json": {
       "model_id": "09e7aae74875462c8d13643ae781dd73",
       "version_major": 2,
       "version_minor": 0
      },
      "text/plain": [
       "HBox(children=(FloatProgress(value=0.0, max=128.0), HTML(value='')))"
      ]
     },
     "metadata": {},
     "output_type": "display_data"
    },
    {
     "name": "stdout",
     "output_type": "stream",
     "text": [
      "\n"
     ]
    },
    {
     "data": {
      "text/plain": [
       "0.950515009912424"
      ]
     },
     "execution_count": 6,
     "metadata": {},
     "output_type": "execute_result"
    }
   ],
   "source": [
    "# New\n",
    "xs, fs = eval_optimization(\n",
    "    SimulatedAnnealing,\n",
    "    objective,\n",
    "    x0=x0,\n",
    "    budget=128,\n",
    "    bounds=bounds,\n",
    "    progress=tqdm,\n",
    "    n_steps=100,\n",
    ")\n",
    "np.min(fs)"
   ]
  },
  {
   "cell_type": "code",
   "execution_count": 7,
   "metadata": {},
   "outputs": [
    {
     "ename": "NameError",
     "evalue": "name 'cummin' is not defined",
     "output_type": "error",
     "traceback": [
      "\u001b[0;31m---------------------------------------------------------------------------\u001b[0m",
      "\u001b[0;31mNameError\u001b[0m                                 Traceback (most recent call last)",
      "\u001b[0;32m<ipython-input-7-5d14c6becdda>\u001b[0m in \u001b[0;36m<module>\u001b[0;34m\u001b[0m\n\u001b[0;32m----> 1\u001b[0;31m \u001b[0mplt\u001b[0m\u001b[0;34m.\u001b[0m\u001b[0mplot\u001b[0m\u001b[0;34m(\u001b[0m\u001b[0mcummin\u001b[0m\u001b[0;34m(\u001b[0m\u001b[0mfs\u001b[0m\u001b[0;34m)\u001b[0m\u001b[0;34m)\u001b[0m\u001b[0;34m\u001b[0m\u001b[0;34m\u001b[0m\u001b[0m\n\u001b[0m\u001b[1;32m      2\u001b[0m \u001b[0mplt\u001b[0m\u001b[0;34m.\u001b[0m\u001b[0mscatter\u001b[0m\u001b[0;34m(\u001b[0m\u001b[0mnp\u001b[0m\u001b[0;34m.\u001b[0m\u001b[0marange\u001b[0m\u001b[0;34m(\u001b[0m\u001b[0mfs\u001b[0m\u001b[0;34m.\u001b[0m\u001b[0mshape\u001b[0m\u001b[0;34m[\u001b[0m\u001b[0;36m0\u001b[0m\u001b[0;34m]\u001b[0m\u001b[0;34m)\u001b[0m\u001b[0;34m,\u001b[0m \u001b[0mfs\u001b[0m\u001b[0;34m,\u001b[0m \u001b[0malpha\u001b[0m\u001b[0;34m=\u001b[0m\u001b[0;36m0.25\u001b[0m\u001b[0;34m)\u001b[0m\u001b[0;34m\u001b[0m\u001b[0;34m\u001b[0m\u001b[0m\n\u001b[1;32m      3\u001b[0m \u001b[0mplt\u001b[0m\u001b[0;34m.\u001b[0m\u001b[0mxlabel\u001b[0m\u001b[0;34m(\u001b[0m\u001b[0;34m'iteration'\u001b[0m\u001b[0;34m)\u001b[0m\u001b[0;34m\u001b[0m\u001b[0;34m\u001b[0m\u001b[0m\n",
      "\u001b[0;31mNameError\u001b[0m: name 'cummin' is not defined"
     ]
    }
   ],
   "source": [
    "plt.plot(cummin(fs))\n",
    "plt.scatter(np.arange(fs.shape[0]), fs, alpha=0.25)\n",
    "plt.xlabel('iteration')"
   ]
  },
  {
   "cell_type": "code",
   "execution_count": null,
   "metadata": {},
   "outputs": [],
   "source": [
    "# Takes 40 min to run\n",
    "# Results are below\n",
    "results = {}\n",
    "for T0 in [0.025, 0.05,0.1,0.2, 0.3]:\n",
    "    for scale in [0.1,0.2,0.3,0.4]:\n",
    "        xs, fs = eval_optimization(\n",
    "            SimulatedAnnealing,\n",
    "            objective,\n",
    "            x0=x0,\n",
    "            bounds=bounds,\n",
    "            budget=128,\n",
    "            progress=tqdm,\n",
    "            T0=T0,\n",
    "            scale=scale,\n",
    "        )\n",
    "        results[(T0,scale)] = np.min(fs)"
   ]
  },
  {
   "cell_type": "code",
   "execution_count": null,
   "metadata": {},
   "outputs": [],
   "source": [
    "# results found at the previous step\n",
    "results = {(0.025, 0.1): 1.3154044364721127,\n",
    " (0.025, 0.2): 1.1757902170882772,\n",
    " (0.025, 0.3): 1.2140989988120285,\n",
    " (0.025, 0.4): 1.1021724705975267,\n",
    " (0.05, 0.1): 1.0680840365131088,\n",
    " (0.05, 0.2): 1.0562616676943977,\n",
    " (0.05, 0.3): 1.3358007446730689,\n",
    " (0.05, 0.4): 1.1021724705975267,\n",
    " (0.1, 0.1): 1.3213544529982943,\n",
    " (0.1, 0.2): 1.2475638784992764,\n",
    " (0.1, 0.3): 1.1256058788500773,\n",
    " (0.1, 0.4): 1.0453218299679161,\n",
    " (0.2, 0.1): 0.950515009912424,\n",
    " (0.2, 0.2): 1.3265010537112918,\n",
    " (0.2, 0.3): 1.005551951459343,\n",
    " (0.2, 0.4): 1.1430089224559339,\n",
    " (0.3, 0.1): 1.4415174467767677,\n",
    " (0.3, 0.2): 1.390773292624976,\n",
    " (0.3, 0.3): 1.1713928452618596,\n",
    " (0.3, 0.4): 0.9378377359564425}"
   ]
  },
  {
   "cell_type": "code",
   "execution_count": null,
   "metadata": {},
   "outputs": [],
   "source": [
    "min(results.values())"
   ]
  },
  {
   "cell_type": "code",
   "execution_count": null,
   "metadata": {},
   "outputs": [],
   "source": []
  }
 ],
 "metadata": {
  "kernelspec": {
   "display_name": "Python 3 (Belle2)",
   "language": "python",
   "name": "python3"
  },
  "language_info": {
   "codemirror_mode": {
    "name": "ipython",
    "version": 3
   },
   "file_extension": ".py",
   "mimetype": "text/x-python",
   "name": "python",
   "nbconvert_exporter": "python",
   "pygments_lexer": "ipython3",
   "version": "3.6.9"
  }
 },
 "nbformat": 4,
 "nbformat_minor": 2
}
